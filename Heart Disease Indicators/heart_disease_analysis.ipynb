{
 "cells": [
  {
   "cell_type": "markdown",
   "metadata": {
    "collapsed": true,
    "pycharm": {
     "name": "#%% md\n"
    }
   },
   "source": [
    "# Analysis of Heart Disease Indicators"
   ]
  },
  {
   "cell_type": "markdown",
   "source": [
    "#### This dataset was retrieved from Kaggle (https://www.kaggle.com/datasets/kamilpytlak/personal-key-indicators-of-heart-disease)\n",
    "Below is a summary of the data"
   ],
   "metadata": {
    "collapsed": false,
    "pycharm": {
     "name": "#%% md\n"
    }
   }
  },
  {
   "cell_type": "markdown",
   "source": [
    "About Dataset\n",
    "Key Indicators of Heart Disease\n",
    "\n",
    "2020 annual CDC survey data of 400k adults related to their health status\n",
    "\n",
    "What topic does the dataset cover?\n",
    "\n",
    "According to the CDC, heart disease is one of the leading causes of death for people of most races in the US (African Americans, American Indians and Alaska Natives, and white people). About half of all Americans (47%) have at least 1 of 3 key risk factors for heart disease: high blood pressure, high cholesterol, and smoking. Other key indicator include diabetic status, obesity (high BMI), not getting enough physical activity or drinking too much alcohol. Detecting and preventing the factors that have the greatest impact on heart disease is very important in healthcare. Computational developments, in turn, allow the application of machine learning methods to detect \"patterns\" from the data that can predict a patient's condition."
   ],
   "metadata": {
    "collapsed": false,
    "pycharm": {
     "name": "#%% md\n"
    }
   }
  },
  {
   "cell_type": "markdown",
   "source": [
    "---"
   ],
   "metadata": {
    "collapsed": false,
    "pycharm": {
     "name": "#%% md\n"
    }
   }
  },
  {
   "cell_type": "markdown",
   "source": [
    "### Reading the data"
   ],
   "metadata": {
    "collapsed": false,
    "pycharm": {
     "name": "#%% md\n"
    }
   }
  },
  {
   "cell_type": "code",
   "execution_count": 46,
   "outputs": [],
   "source": [
    "#Information about Pandas and the documentation can be found here - https://pandas.pydata.org/docs/\n",
    "import pandas as pd"
   ],
   "metadata": {
    "collapsed": false,
    "pycharm": {
     "name": "#%%\n"
    }
   }
  },
  {
   "cell_type": "code",
   "execution_count": 47,
   "outputs": [
    {
     "data": {
      "text/plain": "       HeartDisease    BMI Smoking AlcoholDrinking Stroke  PhysicalHealth  \\\n0                No  16.60     Yes              No     No             3.0   \n1                No  20.34      No              No    Yes             0.0   \n2                No  26.58     Yes              No     No            20.0   \n3                No  24.21      No              No     No             0.0   \n4                No  23.71      No              No     No            28.0   \n...             ...    ...     ...             ...    ...             ...   \n319790          Yes  27.41     Yes              No     No             7.0   \n319791           No  29.84     Yes              No     No             0.0   \n319792           No  24.24      No              No     No             0.0   \n319793           No  32.81      No              No     No             0.0   \n319794           No  46.56      No              No     No             0.0   \n\n        MentalHealth DiffWalking     Sex  AgeCategory      Race Diabetic  \\\n0               30.0          No  Female        55-59     White      Yes   \n1                0.0          No  Female  80 or older     White       No   \n2               30.0          No    Male        65-69     White      Yes   \n3                0.0          No  Female        75-79     White       No   \n4                0.0         Yes  Female        40-44     White       No   \n...              ...         ...     ...          ...       ...      ...   \n319790           0.0         Yes    Male        60-64  Hispanic      Yes   \n319791           0.0          No    Male        35-39  Hispanic       No   \n319792           0.0          No  Female        45-49  Hispanic       No   \n319793           0.0          No  Female        25-29  Hispanic       No   \n319794           0.0          No  Female  80 or older  Hispanic       No   \n\n       PhysicalActivity  GenHealth  SleepTime Asthma KidneyDisease SkinCancer  \n0                   Yes  Very good        5.0    Yes            No        Yes  \n1                   Yes  Very good        7.0     No            No         No  \n2                   Yes       Fair        8.0    Yes            No         No  \n3                    No       Good        6.0     No            No        Yes  \n4                   Yes  Very good        8.0     No            No         No  \n...                 ...        ...        ...    ...           ...        ...  \n319790               No       Fair        6.0    Yes            No         No  \n319791              Yes  Very good        5.0    Yes            No         No  \n319792              Yes       Good        6.0     No            No         No  \n319793               No       Good       12.0     No            No         No  \n319794              Yes       Good        8.0     No            No         No  \n\n[319795 rows x 18 columns]",
      "text/html": "<div>\n<style scoped>\n    .dataframe tbody tr th:only-of-type {\n        vertical-align: middle;\n    }\n\n    .dataframe tbody tr th {\n        vertical-align: top;\n    }\n\n    .dataframe thead th {\n        text-align: right;\n    }\n</style>\n<table border=\"1\" class=\"dataframe\">\n  <thead>\n    <tr style=\"text-align: right;\">\n      <th></th>\n      <th>HeartDisease</th>\n      <th>BMI</th>\n      <th>Smoking</th>\n      <th>AlcoholDrinking</th>\n      <th>Stroke</th>\n      <th>PhysicalHealth</th>\n      <th>MentalHealth</th>\n      <th>DiffWalking</th>\n      <th>Sex</th>\n      <th>AgeCategory</th>\n      <th>Race</th>\n      <th>Diabetic</th>\n      <th>PhysicalActivity</th>\n      <th>GenHealth</th>\n      <th>SleepTime</th>\n      <th>Asthma</th>\n      <th>KidneyDisease</th>\n      <th>SkinCancer</th>\n    </tr>\n  </thead>\n  <tbody>\n    <tr>\n      <th>0</th>\n      <td>No</td>\n      <td>16.60</td>\n      <td>Yes</td>\n      <td>No</td>\n      <td>No</td>\n      <td>3.0</td>\n      <td>30.0</td>\n      <td>No</td>\n      <td>Female</td>\n      <td>55-59</td>\n      <td>White</td>\n      <td>Yes</td>\n      <td>Yes</td>\n      <td>Very good</td>\n      <td>5.0</td>\n      <td>Yes</td>\n      <td>No</td>\n      <td>Yes</td>\n    </tr>\n    <tr>\n      <th>1</th>\n      <td>No</td>\n      <td>20.34</td>\n      <td>No</td>\n      <td>No</td>\n      <td>Yes</td>\n      <td>0.0</td>\n      <td>0.0</td>\n      <td>No</td>\n      <td>Female</td>\n      <td>80 or older</td>\n      <td>White</td>\n      <td>No</td>\n      <td>Yes</td>\n      <td>Very good</td>\n      <td>7.0</td>\n      <td>No</td>\n      <td>No</td>\n      <td>No</td>\n    </tr>\n    <tr>\n      <th>2</th>\n      <td>No</td>\n      <td>26.58</td>\n      <td>Yes</td>\n      <td>No</td>\n      <td>No</td>\n      <td>20.0</td>\n      <td>30.0</td>\n      <td>No</td>\n      <td>Male</td>\n      <td>65-69</td>\n      <td>White</td>\n      <td>Yes</td>\n      <td>Yes</td>\n      <td>Fair</td>\n      <td>8.0</td>\n      <td>Yes</td>\n      <td>No</td>\n      <td>No</td>\n    </tr>\n    <tr>\n      <th>3</th>\n      <td>No</td>\n      <td>24.21</td>\n      <td>No</td>\n      <td>No</td>\n      <td>No</td>\n      <td>0.0</td>\n      <td>0.0</td>\n      <td>No</td>\n      <td>Female</td>\n      <td>75-79</td>\n      <td>White</td>\n      <td>No</td>\n      <td>No</td>\n      <td>Good</td>\n      <td>6.0</td>\n      <td>No</td>\n      <td>No</td>\n      <td>Yes</td>\n    </tr>\n    <tr>\n      <th>4</th>\n      <td>No</td>\n      <td>23.71</td>\n      <td>No</td>\n      <td>No</td>\n      <td>No</td>\n      <td>28.0</td>\n      <td>0.0</td>\n      <td>Yes</td>\n      <td>Female</td>\n      <td>40-44</td>\n      <td>White</td>\n      <td>No</td>\n      <td>Yes</td>\n      <td>Very good</td>\n      <td>8.0</td>\n      <td>No</td>\n      <td>No</td>\n      <td>No</td>\n    </tr>\n    <tr>\n      <th>...</th>\n      <td>...</td>\n      <td>...</td>\n      <td>...</td>\n      <td>...</td>\n      <td>...</td>\n      <td>...</td>\n      <td>...</td>\n      <td>...</td>\n      <td>...</td>\n      <td>...</td>\n      <td>...</td>\n      <td>...</td>\n      <td>...</td>\n      <td>...</td>\n      <td>...</td>\n      <td>...</td>\n      <td>...</td>\n      <td>...</td>\n    </tr>\n    <tr>\n      <th>319790</th>\n      <td>Yes</td>\n      <td>27.41</td>\n      <td>Yes</td>\n      <td>No</td>\n      <td>No</td>\n      <td>7.0</td>\n      <td>0.0</td>\n      <td>Yes</td>\n      <td>Male</td>\n      <td>60-64</td>\n      <td>Hispanic</td>\n      <td>Yes</td>\n      <td>No</td>\n      <td>Fair</td>\n      <td>6.0</td>\n      <td>Yes</td>\n      <td>No</td>\n      <td>No</td>\n    </tr>\n    <tr>\n      <th>319791</th>\n      <td>No</td>\n      <td>29.84</td>\n      <td>Yes</td>\n      <td>No</td>\n      <td>No</td>\n      <td>0.0</td>\n      <td>0.0</td>\n      <td>No</td>\n      <td>Male</td>\n      <td>35-39</td>\n      <td>Hispanic</td>\n      <td>No</td>\n      <td>Yes</td>\n      <td>Very good</td>\n      <td>5.0</td>\n      <td>Yes</td>\n      <td>No</td>\n      <td>No</td>\n    </tr>\n    <tr>\n      <th>319792</th>\n      <td>No</td>\n      <td>24.24</td>\n      <td>No</td>\n      <td>No</td>\n      <td>No</td>\n      <td>0.0</td>\n      <td>0.0</td>\n      <td>No</td>\n      <td>Female</td>\n      <td>45-49</td>\n      <td>Hispanic</td>\n      <td>No</td>\n      <td>Yes</td>\n      <td>Good</td>\n      <td>6.0</td>\n      <td>No</td>\n      <td>No</td>\n      <td>No</td>\n    </tr>\n    <tr>\n      <th>319793</th>\n      <td>No</td>\n      <td>32.81</td>\n      <td>No</td>\n      <td>No</td>\n      <td>No</td>\n      <td>0.0</td>\n      <td>0.0</td>\n      <td>No</td>\n      <td>Female</td>\n      <td>25-29</td>\n      <td>Hispanic</td>\n      <td>No</td>\n      <td>No</td>\n      <td>Good</td>\n      <td>12.0</td>\n      <td>No</td>\n      <td>No</td>\n      <td>No</td>\n    </tr>\n    <tr>\n      <th>319794</th>\n      <td>No</td>\n      <td>46.56</td>\n      <td>No</td>\n      <td>No</td>\n      <td>No</td>\n      <td>0.0</td>\n      <td>0.0</td>\n      <td>No</td>\n      <td>Female</td>\n      <td>80 or older</td>\n      <td>Hispanic</td>\n      <td>No</td>\n      <td>Yes</td>\n      <td>Good</td>\n      <td>8.0</td>\n      <td>No</td>\n      <td>No</td>\n      <td>No</td>\n    </tr>\n  </tbody>\n</table>\n<p>319795 rows × 18 columns</p>\n</div>"
     },
     "execution_count": 47,
     "metadata": {},
     "output_type": "execute_result"
    }
   ],
   "source": [
    "#Pandas has a great built-in function to read a CSV file and store it in a DataFrame\n",
    "df = pd.read_csv(\"heart_2020_cleaned.csv\")\n",
    "df"
   ],
   "metadata": {
    "collapsed": false,
    "pycharm": {
     "name": "#%%\n"
    }
   }
  },
  {
   "cell_type": "markdown",
   "source": [
    "---"
   ],
   "metadata": {
    "collapsed": false,
    "pycharm": {
     "name": "#%% md\n"
    }
   }
  },
  {
   "cell_type": "markdown",
   "source": [
    "### Analysis"
   ],
   "metadata": {
    "collapsed": false,
    "pycharm": {
     "name": "#%% md\n"
    }
   }
  },
  {
   "cell_type": "markdown",
   "source": [
    "Let's look at a simple analysis of this dataset. Say I want to look at the overall health of people who smoke and drink alcohol.\n",
    "For starters, I will store a temporary dataframe that just stores the information we need to make this analysis.\n",
    "This step is unnecessary, but I am doing it in this way so that you can visualize just the data we are using for this one analysis."
   ],
   "metadata": {
    "collapsed": false,
    "pycharm": {
     "name": "#%% md\n"
    }
   }
  },
  {
   "cell_type": "code",
   "execution_count": 48,
   "outputs": [
    {
     "data": {
      "text/plain": "       Smoking AlcoholDrinking  GenHealth\n0          Yes              No  Very good\n1           No              No  Very good\n2          Yes              No       Fair\n3           No              No       Good\n4           No              No  Very good\n...        ...             ...        ...\n319790     Yes              No       Fair\n319791     Yes              No  Very good\n319792      No              No       Good\n319793      No              No       Good\n319794      No              No       Good\n\n[319795 rows x 3 columns]",
      "text/html": "<div>\n<style scoped>\n    .dataframe tbody tr th:only-of-type {\n        vertical-align: middle;\n    }\n\n    .dataframe tbody tr th {\n        vertical-align: top;\n    }\n\n    .dataframe thead th {\n        text-align: right;\n    }\n</style>\n<table border=\"1\" class=\"dataframe\">\n  <thead>\n    <tr style=\"text-align: right;\">\n      <th></th>\n      <th>Smoking</th>\n      <th>AlcoholDrinking</th>\n      <th>GenHealth</th>\n    </tr>\n  </thead>\n  <tbody>\n    <tr>\n      <th>0</th>\n      <td>Yes</td>\n      <td>No</td>\n      <td>Very good</td>\n    </tr>\n    <tr>\n      <th>1</th>\n      <td>No</td>\n      <td>No</td>\n      <td>Very good</td>\n    </tr>\n    <tr>\n      <th>2</th>\n      <td>Yes</td>\n      <td>No</td>\n      <td>Fair</td>\n    </tr>\n    <tr>\n      <th>3</th>\n      <td>No</td>\n      <td>No</td>\n      <td>Good</td>\n    </tr>\n    <tr>\n      <th>4</th>\n      <td>No</td>\n      <td>No</td>\n      <td>Very good</td>\n    </tr>\n    <tr>\n      <th>...</th>\n      <td>...</td>\n      <td>...</td>\n      <td>...</td>\n    </tr>\n    <tr>\n      <th>319790</th>\n      <td>Yes</td>\n      <td>No</td>\n      <td>Fair</td>\n    </tr>\n    <tr>\n      <th>319791</th>\n      <td>Yes</td>\n      <td>No</td>\n      <td>Very good</td>\n    </tr>\n    <tr>\n      <th>319792</th>\n      <td>No</td>\n      <td>No</td>\n      <td>Good</td>\n    </tr>\n    <tr>\n      <th>319793</th>\n      <td>No</td>\n      <td>No</td>\n      <td>Good</td>\n    </tr>\n    <tr>\n      <th>319794</th>\n      <td>No</td>\n      <td>No</td>\n      <td>Good</td>\n    </tr>\n  </tbody>\n</table>\n<p>319795 rows × 3 columns</p>\n</div>"
     },
     "execution_count": 48,
     "metadata": {},
     "output_type": "execute_result"
    }
   ],
   "source": [
    "temporary_frame = df[['Smoking', 'AlcoholDrinking', 'GenHealth']]\n",
    "temporary_frame"
   ],
   "metadata": {
    "collapsed": false,
    "pycharm": {
     "name": "#%%\n"
    }
   }
  },
  {
   "cell_type": "markdown",
   "source": [
    "Next, I'll filter our data to only include features that contain a 'yes' for Smoking and Alcohol Drinking."
   ],
   "metadata": {
    "collapsed": false,
    "pycharm": {
     "name": "#%% md\n"
    }
   }
  },
  {
   "cell_type": "code",
   "execution_count": 49,
   "outputs": [
    {
     "data": {
      "text/plain": "       Smoking AlcoholDrinking  GenHealth\n176        Yes             Yes       Good\n201        Yes             Yes  Very good\n207        Yes             Yes  Very good\n259        Yes             Yes  Very good\n284        Yes             Yes       Good\n...        ...             ...        ...\n319382     Yes             Yes       Good\n319455     Yes             Yes  Excellent\n319601     Yes             Yes       Fair\n319625     Yes             Yes       Fair\n319699     Yes             Yes       Good\n\n[13415 rows x 3 columns]",
      "text/html": "<div>\n<style scoped>\n    .dataframe tbody tr th:only-of-type {\n        vertical-align: middle;\n    }\n\n    .dataframe tbody tr th {\n        vertical-align: top;\n    }\n\n    .dataframe thead th {\n        text-align: right;\n    }\n</style>\n<table border=\"1\" class=\"dataframe\">\n  <thead>\n    <tr style=\"text-align: right;\">\n      <th></th>\n      <th>Smoking</th>\n      <th>AlcoholDrinking</th>\n      <th>GenHealth</th>\n    </tr>\n  </thead>\n  <tbody>\n    <tr>\n      <th>176</th>\n      <td>Yes</td>\n      <td>Yes</td>\n      <td>Good</td>\n    </tr>\n    <tr>\n      <th>201</th>\n      <td>Yes</td>\n      <td>Yes</td>\n      <td>Very good</td>\n    </tr>\n    <tr>\n      <th>207</th>\n      <td>Yes</td>\n      <td>Yes</td>\n      <td>Very good</td>\n    </tr>\n    <tr>\n      <th>259</th>\n      <td>Yes</td>\n      <td>Yes</td>\n      <td>Very good</td>\n    </tr>\n    <tr>\n      <th>284</th>\n      <td>Yes</td>\n      <td>Yes</td>\n      <td>Good</td>\n    </tr>\n    <tr>\n      <th>...</th>\n      <td>...</td>\n      <td>...</td>\n      <td>...</td>\n    </tr>\n    <tr>\n      <th>319382</th>\n      <td>Yes</td>\n      <td>Yes</td>\n      <td>Good</td>\n    </tr>\n    <tr>\n      <th>319455</th>\n      <td>Yes</td>\n      <td>Yes</td>\n      <td>Excellent</td>\n    </tr>\n    <tr>\n      <th>319601</th>\n      <td>Yes</td>\n      <td>Yes</td>\n      <td>Fair</td>\n    </tr>\n    <tr>\n      <th>319625</th>\n      <td>Yes</td>\n      <td>Yes</td>\n      <td>Fair</td>\n    </tr>\n    <tr>\n      <th>319699</th>\n      <td>Yes</td>\n      <td>Yes</td>\n      <td>Good</td>\n    </tr>\n  </tbody>\n</table>\n<p>13415 rows × 3 columns</p>\n</div>"
     },
     "execution_count": 49,
     "metadata": {},
     "output_type": "execute_result"
    }
   ],
   "source": [
    "temporary_frame = temporary_frame[(temporary_frame.Smoking == \"Yes\") & (temporary_frame.AlcoholDrinking == \"Yes\")]\n",
    "count_smoker_drinker = len(temporary_frame.index)\n",
    "temporary_frame"
   ],
   "metadata": {
    "collapsed": false,
    "pycharm": {
     "name": "#%%\n"
    }
   }
  },
  {
   "cell_type": "markdown",
   "source": [
    "Great! Now we have narrowed down our dataset to the columns we need in order to conduct this analysis.\n",
    "Now that we know we've filtered our dataframe to only include people who reported that they smoke and drink,\n",
    "let's get a count of all the GenHealth values in our dataset using value_counts()."
   ],
   "metadata": {
    "collapsed": false,
    "pycharm": {
     "name": "#%% md\n"
    }
   }
  },
  {
   "cell_type": "code",
   "execution_count": 50,
   "outputs": [
    {
     "data": {
      "text/plain": "Very good    4868\nGood         4162\nExcellent    2497\nFair         1451\nPoor          437\nName: GenHealth, dtype: int64"
     },
     "execution_count": 50,
     "metadata": {},
     "output_type": "execute_result"
    }
   ],
   "source": [
    "#value_counts() returns back a dataframe with the counts of all unique values in a series (in descending order by default).\n",
    "counts = temporary_frame.GenHealth.value_counts()\n",
    "counts"
   ],
   "metadata": {
    "collapsed": false,
    "pycharm": {
     "name": "#%%\n"
    }
   }
  },
  {
   "cell_type": "markdown",
   "source": [
    "Using our new 'counts' dataframe, lets visualize the breakdown of the data in a pie chart using the pie function (which utilizes matplotlib.pyplot)."
   ],
   "metadata": {
    "collapsed": false
   }
  },
  {
   "cell_type": "code",
   "execution_count": 51,
   "outputs": [
    {
     "name": "stdout",
     "output_type": "stream",
     "text": [
      "Total number of people who reported that they smoke and drink: 13415\n"
     ]
    },
    {
     "data": {
      "text/plain": "<Figure size 720x720 with 1 Axes>",
      "image/png": "[encoded data removed]"
     },
     "metadata": {},
     "output_type": "display_data"
    }
   ],
   "source": [
    "plot = counts.plot.pie(figsize=(10, 10), colormap='Paired')\n",
    "print(f\"Total number of people who reported that they smoke and drink: {count_smoker_drinker}\")"
   ],
   "metadata": {
    "collapsed": false,
    "pycharm": {
     "name": "#%%\n"
    }
   }
  },
  {
   "cell_type": "markdown",
   "source": [
    "Another way we could visualize our data is with a bar graph"
   ],
   "metadata": {
    "collapsed": false
   }
  },
  {
   "cell_type": "code",
   "execution_count": 52,
   "outputs": [
    {
     "data": {
      "text/plain": "<AxesSubplot:>"
     },
     "execution_count": 52,
     "metadata": {},
     "output_type": "execute_result"
    },
    {
     "data": {
      "text/plain": "<Figure size 720x720 with 1 Axes>",
      "image/png": "[encoded data removed]"
     },
     "metadata": {
      "needs_background": "light"
     },
     "output_type": "display_data"
    }
   ],
   "source": [
    "counts.plot.bar(figsize=(10, 10), colormap='summer')"
   ],
   "metadata": {
    "collapsed": false,
    "pycharm": {
     "name": "#%%\n"
    }
   }
  },
  {
   "cell_type": "markdown",
   "source": [
    "Visualizing data is a key part of data science and machine learning. There are many Python modules that exist for visualization, but the\n",
    "functionality shared amongst data and matplotlib.pyplot is incredible useful and relatively commonplace in the field."
   ],
   "metadata": {
    "collapsed": false
   }
  },
  {
   "cell_type": "markdown",
   "source": [
    "### Summary"
   ],
   "metadata": {
    "collapsed": false
   }
  },
  {
   "cell_type": "markdown",
   "source": [
    "As you can see, this was a very generic and straight-forward analysis. Though, I hope that you walked away with some basic understanding of a few key topics:\n",
    "    - Importing csv files and storing them as a DataFrame using Pandas\n",
    "    - Filtering the data to meet the need\n",
    "    - Utilizing built-in plotting functions that use matplotlib.pyplot\n",
    "I will be adding more Jupyter notebooks to this directory in due time. If you have any feedback, let me know!"
   ],
   "metadata": {
    "collapsed": false
   }
  },
  {
   "cell_type": "code",
   "execution_count": 52,
   "outputs": [],
   "source": [],
   "metadata": {
    "collapsed": false,
    "pycharm": {
     "name": "#%%\n"
    }
   }
  }
 ],
 "metadata": {
  "kernelspec": {
   "display_name": "Python 3",
   "language": "python",
   "name": "python3"
  },
  "language_info": {
   "codemirror_mode": {
    "name": "ipython",
    "version": 2
   },
   "file_extension": ".py",
   "mimetype": "text/x-python",
   "name": "python",
   "nbconvert_exporter": "python",
   "pygments_lexer": "ipython2",
   "version": "2.7.6"
  }
 },
 "nbformat": 4,
 "nbformat_minor": 0
}